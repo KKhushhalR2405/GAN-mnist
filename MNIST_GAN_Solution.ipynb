{
 "cells": [
  {
   "cell_type": "markdown",
   "metadata": {},
   "source": [
    "# Generative Adversarial Network\n",
    "\n",
    "In this notebook, we'll be building a generative adversarial network (GAN) trained on the MNIST dataset. From this, we'll be able to generate new handwritten digits!\n",
    "\n",
    "GANs were [first reported on](https://arxiv.org/abs/1406.2661) in 2014 from Ian Goodfellow and others in Yoshua Bengio's lab. Since then, GANs have exploded in popularity. Here are a few examples to check out:\n",
    "\n",
    "* [Pix2Pix](https://affinelayer.com/pixsrv/) \n",
    "* [CycleGAN & Pix2Pix in PyTorch, Jun-Yan Zhu](https://github.com/junyanz/pytorch-CycleGAN-and-pix2pix)\n",
    "* [A list of generative models](https://github.com/wiseodd/generative-models)\n",
    "\n",
    "The idea behind GANs is that you have two networks, a generator $G$ and a discriminator $D$, competing against each other. The generator makes \"fake\" data to pass to the discriminator. The discriminator also sees real training data and predicts if the data it's received is real or fake. \n",
    "> * The generator is trained to fool the discriminator, it wants to output data that looks _as close as possible_ to real, training data. \n",
    "* The discriminator is a classifier that is trained to figure out which data is real and which is fake. \n",
    "\n",
    "What ends up happening is that the generator learns to make data that is indistinguishable from real data to the discriminator.\n",
    "\n",
    "<img src='assets/gan_pipeline.png' width=70% />\n",
    "\n",
    "The general structure of a GAN is shown in the diagram above, using MNIST images as data. The latent sample is a random vector that the generator uses to construct its fake images. This is often called a **latent vector** and that vector space is called **latent space**. As the generator trains, it figures out how to map latent vectors to recognizable images that can fool the discriminator.\n",
    "\n",
    "If you're interested in generating only new images, you can throw out the discriminator after training. In this notebook, I'll show you how to define and train these adversarial networks in PyTorch and generate new images!"
   ]
  },
  {
   "cell_type": "code",
   "execution_count": 1,
   "metadata": {},
   "outputs": [],
   "source": [
    "%matplotlib inline\n",
    "\n",
    "import numpy as np\n",
    "import torch\n",
    "import matplotlib.pyplot as plt"
   ]
  },
  {
   "cell_type": "code",
   "execution_count": 2,
   "metadata": {},
   "outputs": [
    {
     "name": "stdout",
     "output_type": "stream",
     "text": [
      "Downloading http://yann.lecun.com/exdb/mnist/train-images-idx3-ubyte.gz to data\\MNIST\\raw\\train-images-idx3-ubyte.gz\n"
     ]
    },
    {
     "data": {
      "application/vnd.jupyter.widget-view+json": {
       "model_id": "b1333419e2eb4d0daebf33a7bbe60c58",
       "version_major": 2,
       "version_minor": 0
      },
      "text/plain": [
       "HBox(children=(IntProgress(value=1, bar_style='info', max=1), HTML(value='')))"
      ]
     },
     "metadata": {},
     "output_type": "display_data"
    },
    {
     "name": "stdout",
     "output_type": "stream",
     "text": [
      "Extracting data\\MNIST\\raw\\train-images-idx3-ubyte.gz to data\\MNIST\\raw\n",
      "Downloading http://yann.lecun.com/exdb/mnist/train-labels-idx1-ubyte.gz to data\\MNIST\\raw\\train-labels-idx1-ubyte.gz\n"
     ]
    },
    {
     "data": {
      "application/vnd.jupyter.widget-view+json": {
       "model_id": "0f35f6a2acba4677958ce58d593f3a31",
       "version_major": 2,
       "version_minor": 0
      },
      "text/plain": [
       "HBox(children=(IntProgress(value=1, bar_style='info', max=1), HTML(value='')))"
      ]
     },
     "metadata": {},
     "output_type": "display_data"
    },
    {
     "name": "stdout",
     "output_type": "stream",
     "text": [
      "Extracting data\\MNIST\\raw\\train-labels-idx1-ubyte.gz to data\\MNIST\\raw\n",
      "Downloading http://yann.lecun.com/exdb/mnist/t10k-images-idx3-ubyte.gz to data\\MNIST\\raw\\t10k-images-idx3-ubyte.gz\n"
     ]
    },
    {
     "data": {
      "application/vnd.jupyter.widget-view+json": {
       "model_id": "3c584293423545669cc55225bfd2542c",
       "version_major": 2,
       "version_minor": 0
      },
      "text/plain": [
       "HBox(children=(IntProgress(value=1, bar_style='info', max=1), HTML(value='')))"
      ]
     },
     "metadata": {},
     "output_type": "display_data"
    },
    {
     "name": "stdout",
     "output_type": "stream",
     "text": [
      "Extracting data\\MNIST\\raw\\t10k-images-idx3-ubyte.gz to data\\MNIST\\raw\n",
      "Downloading http://yann.lecun.com/exdb/mnist/t10k-labels-idx1-ubyte.gz to data\\MNIST\\raw\\t10k-labels-idx1-ubyte.gz\n"
     ]
    },
    {
     "data": {
      "application/vnd.jupyter.widget-view+json": {
       "model_id": "7f9399381add42458f7da5942b3d20e6",
       "version_major": 2,
       "version_minor": 0
      },
      "text/plain": [
       "HBox(children=(IntProgress(value=1, bar_style='info', max=1), HTML(value='')))"
      ]
     },
     "metadata": {},
     "output_type": "display_data"
    },
    {
     "name": "stdout",
     "output_type": "stream",
     "text": [
      "Extracting data\\MNIST\\raw\\t10k-labels-idx1-ubyte.gz to data\\MNIST\\raw\n",
      "Processing...\n",
      "Done!\n"
     ]
    }
   ],
   "source": [
    "from torchvision import datasets\n",
    "import torchvision.transforms as transforms\n",
    "\n",
    "# number of subprocesses to use for data loading\n",
    "num_workers = 0\n",
    "# how many samples per batch to load\n",
    "batch_size = 64\n",
    "\n",
    "# convert data to torch.FloatTensor\n",
    "transform = transforms.ToTensor()\n",
    "\n",
    "# get the training datasets\n",
    "train_data = datasets.MNIST(root='data', train=True,\n",
    "                                   download=True, transform=transform)\n",
    "\n",
    "# prepare data loader\n",
    "train_loader = torch.utils.data.DataLoader(train_data, batch_size=batch_size,\n",
    "                                           num_workers=num_workers)"
   ]
  },
  {
   "cell_type": "markdown",
   "metadata": {},
   "source": [
    "### Visualize the data"
   ]
  },
  {
   "cell_type": "code",
   "execution_count": 3,
   "metadata": {},
   "outputs": [
    {
     "data": {
      "text/plain": [
       "<matplotlib.image.AxesImage at 0x14fdb57a860>"
      ]
     },
     "execution_count": 3,
     "metadata": {},
     "output_type": "execute_result"
    },
    {
     "data": {
      "image/png": "[encoded data removed]",
      "text/plain": [
       "<Figure size 216x216 with 1 Axes>"
      ]
     },
     "metadata": {},
     "output_type": "display_data"
    }
   ],
   "source": [
    "# obtain one batch of training images\n",
    "dataiter = iter(train_loader)\n",
    "images, labels = dataiter.next()\n",
    "images = images.numpy()\n",
    "\n",
    "# get one image from the batch\n",
    "img = np.squeeze(images[0])\n",
    "\n",
    "fig = plt.figure(figsize = (3,3)) \n",
    "ax = fig.add_subplot(111)\n",
    "ax.imshow(img, cmap='gray')"
   ]
  },
  {
   "cell_type": "markdown",
   "metadata": {},
   "source": [
    "---\n",
    "# Define the Model\n",
    "\n",
    "A GAN is comprised of two adversarial networks, a discriminator and a generator."
   ]
  },
  {
   "cell_type": "markdown",
   "metadata": {},
   "source": [
    "## Discriminator\n",
    "\n",
    "The discriminator network is going to be a pretty typical linear classifier. To make this network a universal function approximator, we'll need at least one hidden layer, and these hidden layers should have one key attribute:\n",
    "> All hidden layers will have a [Leaky ReLu](https://pytorch.org/docs/stable/nn.html#torch.nn.LeakyReLU) activation function applied to their outputs.\n",
    "\n",
    "<img src='assets/gan_network.png' width=70% />\n",
    "\n",
    "#### Leaky ReLu\n",
    "\n",
    "We should use a leaky ReLU to allow gradients to flow backwards through the layer unimpeded. A leaky ReLU is like a normal ReLU, except that there is a small non-zero output for negative input values.\n",
    "\n",
    "<img src='assets/leaky_relu.png' width=40% />\n",
    "\n",
    "#### Sigmoid Output\n",
    "\n",
    "We'll also take the approach of using a more numerically stable loss function on the outputs. Recall that we want the discriminator to output a value 0-1 indicating whether an image is _real or fake_. \n",
    "> We will ultimately use [BCEWithLogitsLoss](https://pytorch.org/docs/stable/nn.html#bcewithlogitsloss), which combines a `sigmoid` activation function **and** and binary cross entropy loss in one function. \n",
    "\n",
    "So, our final output layer should not have any activation function applied to it."
   ]
  },
  {
   "cell_type": "code",
   "execution_count": 4,
   "metadata": {},
   "outputs": [],
   "source": [
    "import torch.nn as nn\n",
    "import torch.nn.functional as F\n",
    "\n",
    "class Discriminator(nn.Module):\n",
    "\n",
    "    def __init__(self, input_size, hidden_dim, output_size):\n",
    "        super(Discriminator, self).__init__()\n",
    "        \n",
    "        # define hidden linear layers\n",
    "        self.fc1 = nn.Linear(input_size, hidden_dim*4)\n",
    "        self.fc2 = nn.Linear(hidden_dim*4, hidden_dim*2)\n",
    "        self.fc3 = nn.Linear(hidden_dim*2, hidden_dim)\n",
    "        \n",
    "        # final fully-connected layer\n",
    "        self.fc4 = nn.Linear(hidden_dim, output_size)\n",
    "        \n",
    "        # dropout layer \n",
    "        self.dropout = nn.Dropout(0.3)\n",
    "        \n",
    "        \n",
    "    def forward(self, x):\n",
    "        # flatten image\n",
    "        x = x.view(-1, 28*28)\n",
    "        # all hidden layers\n",
    "        x = F.leaky_relu(self.fc1(x), 0.2) # (input, negative_slope=0.2)\n",
    "        x = self.dropout(x)\n",
    "        x = F.leaky_relu(self.fc2(x), 0.2)\n",
    "        x = self.dropout(x)\n",
    "        x = F.leaky_relu(self.fc3(x), 0.2)\n",
    "        x = self.dropout(x)\n",
    "        # final layer\n",
    "        out = self.fc4(x)\n",
    "\n",
    "        return out\n"
   ]
  },
  {
   "cell_type": "markdown",
   "metadata": {},
   "source": [
    "## Generator\n",
    "\n",
    "The generator network will be almost exactly the same as the discriminator network, except that we're applying a [tanh activation function](https://pytorch.org/docs/stable/nn.html#tanh) to our output layer.\n",
    "\n",
    "#### tanh Output\n",
    "The generator has been found to perform the best with $tanh$ for the generator output, which scales the output to be between -1 and 1, instead of 0 and 1. \n",
    "\n",
    "<img src='assets/tanh_fn.png' width=40% />\n",
    "\n",
    "Recall that we also want these outputs to be comparable to the *real* input pixel values, which are read in as normalized values between 0 and 1. \n",
    "> So, we'll also have to **scale our real input images to have pixel values between -1 and 1** when we train the discriminator. \n",
    "\n",
    "I'll do this in the training loop, later on."
   ]
  },
  {
   "cell_type": "code",
   "execution_count": 7,
   "metadata": {},
   "outputs": [],
   "source": [
    "class Generator(nn.Module):\n",
    "\n",
    "    def __init__(self, input_size, hidden_dim, output_size):\n",
    "        super(Generator, self).__init__()\n",
    "        \n",
    "        # define hidden linear layers\n",
    "        self.fc1 = nn.Linear(input_size, hidden_dim)\n",
    "        self.fc2 = nn.Linear(hidden_dim, hidden_dim*2)\n",
    "        self.fc3 = nn.Linear(hidden_dim*2, hidden_dim*4)\n",
    "        \n",
    "        # final fully-connected layer\n",
    "        self.fc4 = nn.Linear(hidden_dim*4, output_size)\n",
    "        \n",
    "        # dropout layer \n",
    "        self.dropout = nn.Dropout(0.3)\n",
    "\n",
    "    def forward(self, x):\n",
    "        # all hidden layers\n",
    "        x = F.leaky_relu(self.fc1(x), 0.2) # (input, negative_slope=0.2)\n",
    "        x = self.dropout(x)\n",
    "        x = F.leaky_relu(self.fc2(x), 0.2)\n",
    "        x = self.dropout(x)\n",
    "        x = F.leaky_relu(self.fc3(x), 0.2)\n",
    "        x = self.dropout(x)\n",
    "        # final layer with tanh applied\n",
    "        out = F.tanh(self.fc4(x))\n",
    "\n",
    "        return out"
   ]
  },
  {
   "cell_type": "markdown",
   "metadata": {},
   "source": [
    "## Model hyperparameters"
   ]
  },
  {
   "cell_type": "code",
   "execution_count": 8,
   "metadata": {},
   "outputs": [],
   "source": [
    "# Discriminator hyperparams\n",
    "\n",
    "# Size of input image to discriminator (28*28)\n",
    "input_size = 784\n",
    "# Size of discriminator output (real or fake)\n",
    "d_output_size = 1\n",
    "# Size of last hidden layer in the discriminator\n",
    "d_hidden_size = 32\n",
    "\n",
    "# Generator hyperparams\n",
    "\n",
    "# Size of latent vector to give to generator\n",
    "z_size = 100\n",
    "# Size of discriminator output (generated image)\n",
    "g_output_size = 784\n",
    "# Size of first hidden layer in the generator\n",
    "g_hidden_size = 32"
   ]
  },
  {
   "cell_type": "markdown",
   "metadata": {},
   "source": [
    "## Build complete network\n",
    "\n",
    "Now we're instantiating the discriminator and generator from the classes defined above. Make sure you've passed in the correct input arguments."
   ]
  },
  {
   "cell_type": "code",
   "execution_count": 9,
   "metadata": {},
   "outputs": [
    {
     "name": "stdout",
     "output_type": "stream",
     "text": [
      "Discriminator(\n",
      "  (fc1): Linear(in_features=784, out_features=128, bias=True)\n",
      "  (fc2): Linear(in_features=128, out_features=64, bias=True)\n",
      "  (fc3): Linear(in_features=64, out_features=32, bias=True)\n",
      "  (fc4): Linear(in_features=32, out_features=1, bias=True)\n",
      "  (dropout): Dropout(p=0.3, inplace=False)\n",
      ")\n",
      "\n",
      "Generator(\n",
      "  (fc1): Linear(in_features=100, out_features=32, bias=True)\n",
      "  (fc2): Linear(in_features=32, out_features=64, bias=True)\n",
      "  (fc3): Linear(in_features=64, out_features=128, bias=True)\n",
      "  (fc4): Linear(in_features=128, out_features=784, bias=True)\n",
      "  (dropout): Dropout(p=0.3, inplace=False)\n",
      ")\n"
     ]
    }
   ],
   "source": [
    "# instantiate discriminator and generator\n",
    "D = Discriminator(input_size, d_hidden_size, d_output_size)\n",
    "G = Generator(z_size, g_hidden_size, g_output_size)\n",
    "\n",
    "# check that they are as you expect\n",
    "print(D)\n",
    "print()\n",
    "print(G)"
   ]
  },
  {
   "cell_type": "markdown",
   "metadata": {},
   "source": [
    "---\n",
    "## Discriminator and Generator Losses\n",
    "\n",
    "Now we need to calculate the losses. \n",
    "\n",
    "### Discriminator Losses\n",
    "\n",
    "> * For the discriminator, the total loss is the sum of the losses for real and fake images, `d_loss = d_real_loss + d_fake_loss`. \n",
    "* Remember that we want the discriminator to output 1 for real images and 0 for fake images, so we need to set up the losses to reflect that.\n",
    "\n",
    "<img src='assets/gan_pipeline.png' width=70% />\n",
    "\n",
    "The losses will by binary cross entropy loss with logits, which we can get with [BCEWithLogitsLoss](https://pytorch.org/docs/stable/nn.html#bcewithlogitsloss). This combines a `sigmoid` activation function **and** and binary cross entropy loss in one function.\n",
    "\n",
    "For the real images, we want `D(real_images) = 1`. That is, we want the discriminator to classify the the real images with a label = 1, indicating that these are real. To help the discriminator generalize better, the labels are **reduced a bit from 1.0 to 0.9**. For this, we'll use the parameter `smooth`; if True, then we should smooth our labels. In PyTorch, this looks like `labels = torch.ones(size) * 0.9`\n",
    "\n",
    "The discriminator loss for the fake data is similar. We want `D(fake_images) = 0`, where the fake images are the _generator output_, `fake_images = G(z)`. \n",
    "\n",
    "### Generator Loss\n",
    "\n",
    "The generator loss will look similar only with flipped labels. The generator's goal is to get `D(fake_images) = 1`. In this case, the labels are **flipped** to represent that the generator is trying to fool the discriminator into thinking that the images it generates (fakes) are real!"
   ]
  },
  {
   "cell_type": "code",
   "execution_count": 10,
   "metadata": {},
   "outputs": [],
   "source": [
    "# Calculate losses\n",
    "def real_loss(D_out, smooth=False):\n",
    "    batch_size = D_out.size(0)\n",
    "    # label smoothing\n",
    "    if smooth:\n",
    "        # smooth, real labels = 0.9\n",
    "        labels = torch.ones(batch_size)*0.9\n",
    "    else:\n",
    "        labels = torch.ones(batch_size) # real labels = 1\n",
    "        \n",
    "    # numerically stable loss\n",
    "    criterion = nn.BCEWithLogitsLoss()\n",
    "    # calculate loss\n",
    "    loss = criterion(D_out.squeeze(), labels)\n",
    "    return loss\n",
    "\n",
    "def fake_loss(D_out):\n",
    "    batch_size = D_out.size(0)\n",
    "    labels = torch.zeros(batch_size) # fake labels = 0\n",
    "    criterion = nn.BCEWithLogitsLoss()\n",
    "    # calculate loss\n",
    "    loss = criterion(D_out.squeeze(), labels)\n",
    "    return loss"
   ]
  },
  {
   "cell_type": "markdown",
   "metadata": {},
   "source": [
    "## Optimizers\n",
    "\n",
    "We want to update the generator and discriminator variables separately. So, we'll define two separate Adam optimizers."
   ]
  },
  {
   "cell_type": "code",
   "execution_count": 11,
   "metadata": {
    "scrolled": true
   },
   "outputs": [],
   "source": [
    "import torch.optim as optim\n",
    "\n",
    "# Optimizers\n",
    "lr = 0.002\n",
    "\n",
    "# Create optimizers for the discriminator and generator\n",
    "d_optimizer = optim.Adam(D.parameters(), lr)\n",
    "g_optimizer = optim.Adam(G.parameters(), lr)"
   ]
  },
  {
   "cell_type": "markdown",
   "metadata": {},
   "source": [
    "---\n",
    "## Training\n",
    "\n",
    "Training will involve alternating between training the discriminator and the generator. We'll use our functions `real_loss` and `fake_loss` to help us calculate the discriminator losses in all of the following cases.\n",
    "\n",
    "### Discriminator training\n",
    "1. Compute the discriminator loss on real, training images        \n",
    "2. Generate fake images\n",
    "3. Compute the discriminator loss on fake, generated images     \n",
    "4. Add up real and fake loss\n",
    "5. Perform backpropagation + an optimization step to update the discriminator's weights\n",
    "\n",
    "### Generator training\n",
    "1. Generate fake images\n",
    "2. Compute the discriminator loss on fake images, using **flipped** labels!\n",
    "3. Perform backpropagation + an optimization step to update the generator's weights\n",
    "\n",
    "#### Saving Samples\n",
    "\n",
    "As we train, we'll also print out some loss statistics and save some generated \"fake\" samples."
   ]
  },
  {
   "cell_type": "code",
   "execution_count": 12,
   "metadata": {
    "scrolled": true
   },
   "outputs": [
    {
     "name": "stderr",
     "output_type": "stream",
     "text": [
      "C:\\Users\\acer\\Anaconda3\\lib\\site-packages\\torch\\nn\\functional.py:1340: UserWarning: nn.functional.tanh is deprecated. Use torch.tanh instead.\n",
      "  warnings.warn(\"nn.functional.tanh is deprecated. Use torch.tanh instead.\")\n"
     ]
    },
    {
     "name": "stdout",
     "output_type": "stream",
     "text": [
      "Epoch [    1/  100] | d_loss: 1.3471 | g_loss: 0.7855\n",
      "Epoch [    1/  100] | d_loss: 1.3445 | g_loss: 1.0613\n",
      "Epoch [    1/  100] | d_loss: 1.5501 | g_loss: 0.5865\n",
      "Epoch [    2/  100] | d_loss: 1.3869 | g_loss: 0.6959\n",
      "Epoch [    2/  100] | d_loss: 1.2697 | g_loss: 0.9220\n",
      "Epoch [    2/  100] | d_loss: 1.3230 | g_loss: 0.8051\n",
      "Epoch [    3/  100] | d_loss: 1.2289 | g_loss: 1.6251\n",
      "Epoch [    3/  100] | d_loss: 1.1715 | g_loss: 1.7082\n",
      "Epoch [    3/  100] | d_loss: 1.3350 | g_loss: 0.8990\n",
      "Epoch [    4/  100] | d_loss: 1.2664 | g_loss: 1.4568\n",
      "Epoch [    4/  100] | d_loss: 1.0574 | g_loss: 1.4664\n",
      "Epoch [    4/  100] | d_loss: 1.4468 | g_loss: 0.7046\n",
      "Epoch [    5/  100] | d_loss: 1.5244 | g_loss: 0.6910\n",
      "Epoch [    5/  100] | d_loss: 1.3851 | g_loss: 0.8780\n",
      "Epoch [    5/  100] | d_loss: 1.5067 | g_loss: 0.9588\n",
      "Epoch [    6/  100] | d_loss: 1.3986 | g_loss: 0.8887\n",
      "Epoch [    6/  100] | d_loss: 1.2971 | g_loss: 0.8724\n",
      "Epoch [    6/  100] | d_loss: 1.2029 | g_loss: 0.8655\n",
      "Epoch [    7/  100] | d_loss: 0.9433 | g_loss: 1.5321\n",
      "Epoch [    7/  100] | d_loss: 1.4847 | g_loss: 1.3156\n",
      "Epoch [    7/  100] | d_loss: 1.2235 | g_loss: 1.0196\n",
      "Epoch [    8/  100] | d_loss: 1.0752 | g_loss: 1.9519\n",
      "Epoch [    8/  100] | d_loss: 1.3480 | g_loss: 0.7745\n",
      "Epoch [    8/  100] | d_loss: 1.3380 | g_loss: 0.9474\n",
      "Epoch [    9/  100] | d_loss: 1.1406 | g_loss: 1.0606\n",
      "Epoch [    9/  100] | d_loss: 1.3681 | g_loss: 0.8907\n",
      "Epoch [    9/  100] | d_loss: 1.3025 | g_loss: 1.1291\n",
      "Epoch [   10/  100] | d_loss: 1.8118 | g_loss: 0.5092\n",
      "Epoch [   10/  100] | d_loss: 1.2693 | g_loss: 0.8959\n",
      "Epoch [   10/  100] | d_loss: 1.1879 | g_loss: 1.0880\n",
      "Epoch [   11/  100] | d_loss: 1.2056 | g_loss: 2.0562\n",
      "Epoch [   11/  100] | d_loss: 1.1912 | g_loss: 1.0699\n",
      "Epoch [   11/  100] | d_loss: 1.2387 | g_loss: 1.4521\n",
      "Epoch [   12/  100] | d_loss: 1.1624 | g_loss: 1.3879\n",
      "Epoch [   12/  100] | d_loss: 1.1052 | g_loss: 1.6978\n",
      "Epoch [   12/  100] | d_loss: 1.0499 | g_loss: 2.2126\n",
      "Epoch [   13/  100] | d_loss: 1.3467 | g_loss: 2.2637\n",
      "Epoch [   13/  100] | d_loss: 1.1761 | g_loss: 1.6973\n",
      "Epoch [   13/  100] | d_loss: 1.2928 | g_loss: 1.0356\n",
      "Epoch [   14/  100] | d_loss: 1.2584 | g_loss: 1.0524\n",
      "Epoch [   14/  100] | d_loss: 1.2688 | g_loss: 1.1634\n",
      "Epoch [   14/  100] | d_loss: 1.1072 | g_loss: 1.0857\n",
      "Epoch [   15/  100] | d_loss: 1.1669 | g_loss: 1.9673\n",
      "Epoch [   15/  100] | d_loss: 1.1724 | g_loss: 1.9421\n",
      "Epoch [   15/  100] | d_loss: 1.1408 | g_loss: 1.4967\n",
      "Epoch [   16/  100] | d_loss: 1.2386 | g_loss: 1.0267\n",
      "Epoch [   16/  100] | d_loss: 1.3174 | g_loss: 1.0078\n",
      "Epoch [   16/  100] | d_loss: 1.3779 | g_loss: 0.9340\n",
      "Epoch [   17/  100] | d_loss: 1.1987 | g_loss: 1.0884\n",
      "Epoch [   17/  100] | d_loss: 1.2099 | g_loss: 1.0762\n",
      "Epoch [   17/  100] | d_loss: 1.2378 | g_loss: 1.1482\n",
      "Epoch [   18/  100] | d_loss: 1.3663 | g_loss: 1.0407\n",
      "Epoch [   18/  100] | d_loss: 1.1926 | g_loss: 1.1105\n",
      "Epoch [   18/  100] | d_loss: 1.3366 | g_loss: 0.8113\n",
      "Epoch [   19/  100] | d_loss: 1.2008 | g_loss: 1.1791\n",
      "Epoch [   19/  100] | d_loss: 1.2402 | g_loss: 1.4170\n",
      "Epoch [   19/  100] | d_loss: 1.2791 | g_loss: 0.8688\n",
      "Epoch [   20/  100] | d_loss: 1.2291 | g_loss: 1.2802\n",
      "Epoch [   20/  100] | d_loss: 1.3142 | g_loss: 0.9847\n",
      "Epoch [   20/  100] | d_loss: 1.3624 | g_loss: 0.9998\n",
      "Epoch [   21/  100] | d_loss: 1.2942 | g_loss: 1.0990\n",
      "Epoch [   21/  100] | d_loss: 1.2117 | g_loss: 1.0049\n",
      "Epoch [   21/  100] | d_loss: 1.2209 | g_loss: 1.2684\n",
      "Epoch [   22/  100] | d_loss: 1.2684 | g_loss: 1.3415\n",
      "Epoch [   22/  100] | d_loss: 1.2868 | g_loss: 0.8946\n",
      "Epoch [   22/  100] | d_loss: 1.2447 | g_loss: 0.8980\n",
      "Epoch [   23/  100] | d_loss: 1.4019 | g_loss: 1.0595\n",
      "Epoch [   23/  100] | d_loss: 1.2505 | g_loss: 1.0473\n",
      "Epoch [   23/  100] | d_loss: 1.3761 | g_loss: 1.0090\n",
      "Epoch [   24/  100] | d_loss: 1.2332 | g_loss: 1.1941\n",
      "Epoch [   24/  100] | d_loss: 1.3157 | g_loss: 0.8935\n",
      "Epoch [   24/  100] | d_loss: 1.2948 | g_loss: 1.1171\n",
      "Epoch [   25/  100] | d_loss: 1.3091 | g_loss: 0.9513\n",
      "Epoch [   25/  100] | d_loss: 1.2935 | g_loss: 1.5410\n",
      "Epoch [   25/  100] | d_loss: 1.2457 | g_loss: 0.9390\n",
      "Epoch [   26/  100] | d_loss: 1.3118 | g_loss: 1.1247\n",
      "Epoch [   26/  100] | d_loss: 1.2061 | g_loss: 0.9459\n",
      "Epoch [   26/  100] | d_loss: 1.2796 | g_loss: 1.0162\n",
      "Epoch [   27/  100] | d_loss: 1.3158 | g_loss: 1.1978\n",
      "Epoch [   27/  100] | d_loss: 1.3714 | g_loss: 1.2616\n",
      "Epoch [   27/  100] | d_loss: 1.1489 | g_loss: 1.0923\n",
      "Epoch [   28/  100] | d_loss: 1.3307 | g_loss: 1.2285\n",
      "Epoch [   28/  100] | d_loss: 1.2940 | g_loss: 0.8992\n",
      "Epoch [   28/  100] | d_loss: 1.3022 | g_loss: 0.9178\n",
      "Epoch [   29/  100] | d_loss: 1.2513 | g_loss: 1.1154\n",
      "Epoch [   29/  100] | d_loss: 1.3103 | g_loss: 0.9714\n",
      "Epoch [   29/  100] | d_loss: 1.2838 | g_loss: 0.9527\n",
      "Epoch [   30/  100] | d_loss: 1.3326 | g_loss: 1.0112\n",
      "Epoch [   30/  100] | d_loss: 1.1947 | g_loss: 1.0793\n",
      "Epoch [   30/  100] | d_loss: 1.3412 | g_loss: 1.0407\n",
      "Epoch [   31/  100] | d_loss: 1.3408 | g_loss: 0.8601\n",
      "Epoch [   31/  100] | d_loss: 1.2591 | g_loss: 0.9498\n",
      "Epoch [   31/  100] | d_loss: 1.3282 | g_loss: 1.0187\n",
      "Epoch [   32/  100] | d_loss: 1.3912 | g_loss: 0.9926\n",
      "Epoch [   32/  100] | d_loss: 1.2392 | g_loss: 1.0312\n",
      "Epoch [   32/  100] | d_loss: 1.2223 | g_loss: 1.2625\n",
      "Epoch [   33/  100] | d_loss: 1.2180 | g_loss: 1.2752\n",
      "Epoch [   33/  100] | d_loss: 1.2440 | g_loss: 0.9364\n",
      "Epoch [   33/  100] | d_loss: 1.2775 | g_loss: 0.9654\n",
      "Epoch [   34/  100] | d_loss: 1.3419 | g_loss: 0.8510\n",
      "Epoch [   34/  100] | d_loss: 1.2468 | g_loss: 1.2189\n",
      "Epoch [   34/  100] | d_loss: 1.3370 | g_loss: 0.9097\n",
      "Epoch [   35/  100] | d_loss: 1.2730 | g_loss: 1.1838\n",
      "Epoch [   35/  100] | d_loss: 1.2833 | g_loss: 1.0146\n",
      "Epoch [   35/  100] | d_loss: 1.4046 | g_loss: 0.9766\n",
      "Epoch [   36/  100] | d_loss: 1.3602 | g_loss: 1.2085\n",
      "Epoch [   36/  100] | d_loss: 1.2601 | g_loss: 0.9830\n",
      "Epoch [   36/  100] | d_loss: 1.3911 | g_loss: 0.9224\n",
      "Epoch [   37/  100] | d_loss: 1.3622 | g_loss: 1.0494\n",
      "Epoch [   37/  100] | d_loss: 1.1819 | g_loss: 1.0587\n",
      "Epoch [   37/  100] | d_loss: 1.2549 | g_loss: 1.0449\n",
      "Epoch [   38/  100] | d_loss: 1.4330 | g_loss: 1.6774\n",
      "Epoch [   38/  100] | d_loss: 1.2653 | g_loss: 1.0194\n",
      "Epoch [   38/  100] | d_loss: 1.3283 | g_loss: 0.8736\n",
      "Epoch [   39/  100] | d_loss: 1.2812 | g_loss: 1.8895\n",
      "Epoch [   39/  100] | d_loss: 1.2509 | g_loss: 1.0061\n",
      "Epoch [   39/  100] | d_loss: 1.3897 | g_loss: 0.9249\n",
      "Epoch [   40/  100] | d_loss: 1.3274 | g_loss: 0.9061\n",
      "Epoch [   40/  100] | d_loss: 1.1819 | g_loss: 1.6918\n",
      "Epoch [   40/  100] | d_loss: 1.3639 | g_loss: 0.9550\n",
      "Epoch [   41/  100] | d_loss: 1.3567 | g_loss: 1.4277\n",
      "Epoch [   41/  100] | d_loss: 1.3242 | g_loss: 0.9643\n",
      "Epoch [   41/  100] | d_loss: 1.4036 | g_loss: 1.0633\n",
      "Epoch [   42/  100] | d_loss: 1.3644 | g_loss: 0.9245\n",
      "Epoch [   42/  100] | d_loss: 1.2585 | g_loss: 0.9995\n",
      "Epoch [   42/  100] | d_loss: 1.3466 | g_loss: 1.0135\n",
      "Epoch [   43/  100] | d_loss: 1.3243 | g_loss: 0.9128\n",
      "Epoch [   43/  100] | d_loss: 1.3070 | g_loss: 0.9389\n",
      "Epoch [   43/  100] | d_loss: 1.3572 | g_loss: 0.9862\n",
      "Epoch [   44/  100] | d_loss: 1.2959 | g_loss: 0.8974\n",
      "Epoch [   44/  100] | d_loss: 1.2842 | g_loss: 0.9588\n",
      "Epoch [   44/  100] | d_loss: 1.2222 | g_loss: 1.1947\n",
      "Epoch [   45/  100] | d_loss: 1.3035 | g_loss: 1.0738\n",
      "Epoch [   45/  100] | d_loss: 1.2384 | g_loss: 1.1776\n",
      "Epoch [   45/  100] | d_loss: 1.2632 | g_loss: 0.9950\n",
      "Epoch [   46/  100] | d_loss: 1.2830 | g_loss: 1.1958\n",
      "Epoch [   46/  100] | d_loss: 1.2296 | g_loss: 0.8672\n",
      "Epoch [   46/  100] | d_loss: 1.3142 | g_loss: 1.0155\n",
      "Epoch [   47/  100] | d_loss: 1.3197 | g_loss: 0.8743\n",
      "Epoch [   47/  100] | d_loss: 1.2658 | g_loss: 1.0289\n",
      "Epoch [   47/  100] | d_loss: 1.3376 | g_loss: 0.9345\n",
      "Epoch [   48/  100] | d_loss: 1.2129 | g_loss: 1.1106\n",
      "Epoch [   48/  100] | d_loss: 1.2703 | g_loss: 1.1010\n",
      "Epoch [   48/  100] | d_loss: 1.4548 | g_loss: 0.9945\n",
      "Epoch [   49/  100] | d_loss: 1.3356 | g_loss: 1.1815\n",
      "Epoch [   49/  100] | d_loss: 1.2952 | g_loss: 1.0324\n",
      "Epoch [   49/  100] | d_loss: 1.3124 | g_loss: 1.2002\n",
      "Epoch [   50/  100] | d_loss: 1.3513 | g_loss: 1.1010\n",
      "Epoch [   50/  100] | d_loss: 1.2811 | g_loss: 0.8674\n",
      "Epoch [   50/  100] | d_loss: 1.3009 | g_loss: 0.9100\n",
      "Epoch [   51/  100] | d_loss: 1.2395 | g_loss: 1.0442\n"
     ]
    },
    {
     "name": "stdout",
     "output_type": "stream",
     "text": [
      "Epoch [   51/  100] | d_loss: 1.2871 | g_loss: 1.5213\n",
      "Epoch [   51/  100] | d_loss: 1.3778 | g_loss: 0.8804\n",
      "Epoch [   52/  100] | d_loss: 1.3040 | g_loss: 0.9381\n",
      "Epoch [   52/  100] | d_loss: 1.2945 | g_loss: 1.1962\n",
      "Epoch [   52/  100] | d_loss: 1.3777 | g_loss: 1.0012\n",
      "Epoch [   53/  100] | d_loss: 1.3109 | g_loss: 1.3409\n",
      "Epoch [   53/  100] | d_loss: 1.1926 | g_loss: 0.9452\n",
      "Epoch [   53/  100] | d_loss: 1.3243 | g_loss: 1.0180\n",
      "Epoch [   54/  100] | d_loss: 1.3508 | g_loss: 1.2299\n",
      "Epoch [   54/  100] | d_loss: 1.2401 | g_loss: 1.0937\n",
      "Epoch [   54/  100] | d_loss: 1.3726 | g_loss: 0.9589\n",
      "Epoch [   55/  100] | d_loss: 1.2674 | g_loss: 1.4946\n",
      "Epoch [   55/  100] | d_loss: 1.2509 | g_loss: 0.9700\n",
      "Epoch [   55/  100] | d_loss: 1.2924 | g_loss: 1.1318\n",
      "Epoch [   56/  100] | d_loss: 1.2855 | g_loss: 0.9632\n",
      "Epoch [   56/  100] | d_loss: 1.1837 | g_loss: 1.1537\n",
      "Epoch [   56/  100] | d_loss: 1.3110 | g_loss: 0.7811\n",
      "Epoch [   57/  100] | d_loss: 1.4842 | g_loss: 0.9305\n",
      "Epoch [   57/  100] | d_loss: 1.2717 | g_loss: 1.0406\n",
      "Epoch [   57/  100] | d_loss: 1.2897 | g_loss: 1.0622\n",
      "Epoch [   58/  100] | d_loss: 1.3361 | g_loss: 1.6457\n",
      "Epoch [   58/  100] | d_loss: 1.2944 | g_loss: 1.0742\n",
      "Epoch [   58/  100] | d_loss: 1.3964 | g_loss: 1.1088\n",
      "Epoch [   59/  100] | d_loss: 1.3206 | g_loss: 0.9210\n",
      "Epoch [   59/  100] | d_loss: 1.3319 | g_loss: 0.8948\n",
      "Epoch [   59/  100] | d_loss: 1.2663 | g_loss: 1.0061\n",
      "Epoch [   60/  100] | d_loss: 1.3056 | g_loss: 0.8669\n",
      "Epoch [   60/  100] | d_loss: 1.2508 | g_loss: 0.9317\n",
      "Epoch [   60/  100] | d_loss: 1.4009 | g_loss: 1.0471\n",
      "Epoch [   61/  100] | d_loss: 1.1541 | g_loss: 1.0895\n",
      "Epoch [   61/  100] | d_loss: 1.2434 | g_loss: 0.8261\n",
      "Epoch [   61/  100] | d_loss: 1.3408 | g_loss: 1.1801\n",
      "Epoch [   62/  100] | d_loss: 1.2541 | g_loss: 1.0104\n",
      "Epoch [   62/  100] | d_loss: 1.3502 | g_loss: 1.0332\n",
      "Epoch [   62/  100] | d_loss: 1.2896 | g_loss: 1.1337\n",
      "Epoch [   63/  100] | d_loss: 1.2032 | g_loss: 1.0721\n",
      "Epoch [   63/  100] | d_loss: 1.2661 | g_loss: 0.9179\n",
      "Epoch [   63/  100] | d_loss: 1.3027 | g_loss: 0.9314\n",
      "Epoch [   64/  100] | d_loss: 1.1943 | g_loss: 1.9242\n",
      "Epoch [   64/  100] | d_loss: 1.2435 | g_loss: 1.1580\n",
      "Epoch [   64/  100] | d_loss: 1.3222 | g_loss: 0.9418\n",
      "Epoch [   65/  100] | d_loss: 1.2695 | g_loss: 1.1000\n",
      "Epoch [   65/  100] | d_loss: 1.2531 | g_loss: 0.8414\n",
      "Epoch [   65/  100] | d_loss: 1.3215 | g_loss: 1.1046\n",
      "Epoch [   66/  100] | d_loss: 1.3554 | g_loss: 1.1639\n",
      "Epoch [   66/  100] | d_loss: 1.2900 | g_loss: 1.0660\n",
      "Epoch [   66/  100] | d_loss: 1.3171 | g_loss: 0.9373\n",
      "Epoch [   67/  100] | d_loss: 1.2746 | g_loss: 0.8277\n",
      "Epoch [   67/  100] | d_loss: 1.3424 | g_loss: 1.1531\n",
      "Epoch [   67/  100] | d_loss: 1.4004 | g_loss: 0.8798\n",
      "Epoch [   68/  100] | d_loss: 1.2981 | g_loss: 0.9816\n",
      "Epoch [   68/  100] | d_loss: 1.2164 | g_loss: 0.9227\n",
      "Epoch [   68/  100] | d_loss: 1.3368 | g_loss: 1.0999\n",
      "Epoch [   69/  100] | d_loss: 1.4201 | g_loss: 0.9686\n",
      "Epoch [   69/  100] | d_loss: 1.2778 | g_loss: 1.0206\n",
      "Epoch [   69/  100] | d_loss: 1.3100 | g_loss: 1.1169\n",
      "Epoch [   70/  100] | d_loss: 1.2646 | g_loss: 1.2412\n",
      "Epoch [   70/  100] | d_loss: 1.3705 | g_loss: 0.9556\n",
      "Epoch [   70/  100] | d_loss: 1.3909 | g_loss: 1.1087\n",
      "Epoch [   71/  100] | d_loss: 1.4143 | g_loss: 1.2058\n",
      "Epoch [   71/  100] | d_loss: 1.2249 | g_loss: 0.9903\n",
      "Epoch [   71/  100] | d_loss: 1.2747 | g_loss: 0.8953\n",
      "Epoch [   72/  100] | d_loss: 1.2772 | g_loss: 0.9411\n",
      "Epoch [   72/  100] | d_loss: 1.2872 | g_loss: 0.8556\n",
      "Epoch [   72/  100] | d_loss: 1.3483 | g_loss: 1.1208\n",
      "Epoch [   73/  100] | d_loss: 1.3444 | g_loss: 1.4314\n",
      "Epoch [   73/  100] | d_loss: 1.2065 | g_loss: 0.9532\n",
      "Epoch [   73/  100] | d_loss: 1.3600 | g_loss: 0.9507\n",
      "Epoch [   74/  100] | d_loss: 1.2945 | g_loss: 0.8111\n",
      "Epoch [   74/  100] | d_loss: 1.1625 | g_loss: 1.2861\n",
      "Epoch [   74/  100] | d_loss: 1.3145 | g_loss: 0.9403\n",
      "Epoch [   75/  100] | d_loss: 1.5201 | g_loss: 1.5440\n",
      "Epoch [   75/  100] | d_loss: 1.1140 | g_loss: 1.1936\n",
      "Epoch [   75/  100] | d_loss: 1.3850 | g_loss: 1.0415\n",
      "Epoch [   76/  100] | d_loss: 1.3408 | g_loss: 0.8958\n",
      "Epoch [   76/  100] | d_loss: 1.1339 | g_loss: 1.0146\n",
      "Epoch [   76/  100] | d_loss: 1.4086 | g_loss: 1.0213\n",
      "Epoch [   77/  100] | d_loss: 1.2823 | g_loss: 1.0588\n",
      "Epoch [   77/  100] | d_loss: 1.2235 | g_loss: 1.4065\n",
      "Epoch [   77/  100] | d_loss: 1.3254 | g_loss: 0.8532\n",
      "Epoch [   78/  100] | d_loss: 1.3856 | g_loss: 2.2694\n",
      "Epoch [   78/  100] | d_loss: 1.2187 | g_loss: 0.9225\n",
      "Epoch [   78/  100] | d_loss: 1.3338 | g_loss: 1.0400\n",
      "Epoch [   79/  100] | d_loss: 1.2744 | g_loss: 1.0249\n",
      "Epoch [   79/  100] | d_loss: 1.2814 | g_loss: 0.8846\n",
      "Epoch [   79/  100] | d_loss: 1.3083 | g_loss: 1.0363\n",
      "Epoch [   80/  100] | d_loss: 1.2534 | g_loss: 1.1348\n",
      "Epoch [   80/  100] | d_loss: 1.1797 | g_loss: 0.8867\n",
      "Epoch [   80/  100] | d_loss: 1.3338 | g_loss: 1.0119\n",
      "Epoch [   81/  100] | d_loss: 1.2766 | g_loss: 1.1295\n",
      "Epoch [   81/  100] | d_loss: 1.1827 | g_loss: 1.0362\n",
      "Epoch [   81/  100] | d_loss: 1.3696 | g_loss: 1.0346\n",
      "Epoch [   82/  100] | d_loss: 1.3687 | g_loss: 0.7626\n",
      "Epoch [   82/  100] | d_loss: 1.2745 | g_loss: 1.1148\n",
      "Epoch [   82/  100] | d_loss: 1.3539 | g_loss: 0.9051\n",
      "Epoch [   83/  100] | d_loss: 1.3056 | g_loss: 1.1071\n",
      "Epoch [   83/  100] | d_loss: 1.2545 | g_loss: 1.0068\n",
      "Epoch [   83/  100] | d_loss: 1.3103 | g_loss: 1.1287\n",
      "Epoch [   84/  100] | d_loss: 1.3041 | g_loss: 0.9777\n",
      "Epoch [   84/  100] | d_loss: 1.2885 | g_loss: 1.0521\n",
      "Epoch [   84/  100] | d_loss: 1.2989 | g_loss: 1.1719\n",
      "Epoch [   85/  100] | d_loss: 1.2921 | g_loss: 1.4474\n",
      "Epoch [   85/  100] | d_loss: 1.3649 | g_loss: 1.0234\n",
      "Epoch [   85/  100] | d_loss: 1.4115 | g_loss: 1.1341\n",
      "Epoch [   86/  100] | d_loss: 1.3208 | g_loss: 1.2291\n",
      "Epoch [   86/  100] | d_loss: 1.2840 | g_loss: 0.9964\n",
      "Epoch [   86/  100] | d_loss: 1.2698 | g_loss: 0.9967\n",
      "Epoch [   87/  100] | d_loss: 1.2392 | g_loss: 0.9081\n",
      "Epoch [   87/  100] | d_loss: 1.3518 | g_loss: 1.1170\n",
      "Epoch [   87/  100] | d_loss: 1.2202 | g_loss: 1.0404\n",
      "Epoch [   88/  100] | d_loss: 1.3323 | g_loss: 0.8883\n",
      "Epoch [   88/  100] | d_loss: 1.2810 | g_loss: 1.0403\n",
      "Epoch [   88/  100] | d_loss: 1.3971 | g_loss: 1.0525\n",
      "Epoch [   89/  100] | d_loss: 1.2053 | g_loss: 1.1609\n",
      "Epoch [   89/  100] | d_loss: 1.1957 | g_loss: 0.9563\n",
      "Epoch [   89/  100] | d_loss: 1.3125 | g_loss: 0.9760\n",
      "Epoch [   90/  100] | d_loss: 1.2019 | g_loss: 1.2119\n",
      "Epoch [   90/  100] | d_loss: 1.3024 | g_loss: 0.9763\n",
      "Epoch [   90/  100] | d_loss: 1.3188 | g_loss: 0.9393\n",
      "Epoch [   91/  100] | d_loss: 1.3258 | g_loss: 1.3092\n",
      "Epoch [   91/  100] | d_loss: 1.1437 | g_loss: 2.2353\n",
      "Epoch [   91/  100] | d_loss: 1.3667 | g_loss: 0.8556\n",
      "Epoch [   92/  100] | d_loss: 1.3773 | g_loss: 1.1615\n",
      "Epoch [   92/  100] | d_loss: 1.3482 | g_loss: 1.0706\n",
      "Epoch [   92/  100] | d_loss: 1.4474 | g_loss: 1.0234\n",
      "Epoch [   93/  100] | d_loss: 1.3481 | g_loss: 0.8893\n",
      "Epoch [   93/  100] | d_loss: 1.1756 | g_loss: 1.0413\n",
      "Epoch [   93/  100] | d_loss: 1.3575 | g_loss: 0.9820\n",
      "Epoch [   94/  100] | d_loss: 1.2410 | g_loss: 1.0089\n",
      "Epoch [   94/  100] | d_loss: 1.3478 | g_loss: 0.9825\n",
      "Epoch [   94/  100] | d_loss: 1.3522 | g_loss: 1.0638\n",
      "Epoch [   95/  100] | d_loss: 1.4707 | g_loss: 1.6424\n",
      "Epoch [   95/  100] | d_loss: 1.2184 | g_loss: 0.9522\n",
      "Epoch [   95/  100] | d_loss: 1.3339 | g_loss: 0.9831\n",
      "Epoch [   96/  100] | d_loss: 1.2817 | g_loss: 0.9451\n",
      "Epoch [   96/  100] | d_loss: 1.1048 | g_loss: 0.9498\n",
      "Epoch [   96/  100] | d_loss: 1.3033 | g_loss: 1.1260\n",
      "Epoch [   97/  100] | d_loss: 1.3481 | g_loss: 1.2728\n",
      "Epoch [   97/  100] | d_loss: 1.1779 | g_loss: 0.9410\n",
      "Epoch [   97/  100] | d_loss: 1.3049 | g_loss: 0.9541\n",
      "Epoch [   98/  100] | d_loss: 1.4567 | g_loss: 1.0274\n",
      "Epoch [   98/  100] | d_loss: 1.2716 | g_loss: 1.0100\n",
      "Epoch [   98/  100] | d_loss: 1.3160 | g_loss: 0.8364\n",
      "Epoch [   99/  100] | d_loss: 1.2703 | g_loss: 1.0076\n",
      "Epoch [   99/  100] | d_loss: 1.2545 | g_loss: 0.9030\n",
      "Epoch [   99/  100] | d_loss: 1.3039 | g_loss: 0.9170\n",
      "Epoch [  100/  100] | d_loss: 1.2067 | g_loss: 1.0937\n",
      "Epoch [  100/  100] | d_loss: 1.2386 | g_loss: 1.1553\n",
      "Epoch [  100/  100] | d_loss: 1.4812 | g_loss: 0.9916\n"
     ]
    }
   ],
   "source": [
    "import pickle as pkl\n",
    "\n",
    "# training hyperparams\n",
    "num_epochs = 100\n",
    "\n",
    "# keep track of loss and generated, \"fake\" samples\n",
    "samples = []\n",
    "losses = []\n",
    "\n",
    "print_every = 400\n",
    "\n",
    "# Get some fixed data for sampling. These are images that are held\n",
    "# constant throughout training, and allow us to inspect the model's performance\n",
    "sample_size=16\n",
    "fixed_z = np.random.uniform(-1, 1, size=(sample_size, z_size))\n",
    "fixed_z = torch.from_numpy(fixed_z).float()\n",
    "\n",
    "# train the network\n",
    "D.train()\n",
    "G.train()\n",
    "for epoch in range(num_epochs):\n",
    "    \n",
    "    for batch_i, (real_images, _) in enumerate(train_loader):\n",
    "                \n",
    "        batch_size = real_images.size(0)\n",
    "        \n",
    "        ## Important rescaling step ## \n",
    "        real_images = real_images*2 - 1  # rescale input images from [0,1) to [-1, 1)\n",
    "        \n",
    "        # ============================================\n",
    "        #            TRAIN THE DISCRIMINATOR\n",
    "        # ============================================\n",
    "        \n",
    "        d_optimizer.zero_grad()\n",
    "        \n",
    "        # 1. Train with real images\n",
    "\n",
    "        # Compute the discriminator losses on real images \n",
    "        # smooth the real labels\n",
    "        D_real = D(real_images)\n",
    "        d_real_loss = real_loss(D_real, smooth=True)\n",
    "        \n",
    "        # 2. Train with fake images\n",
    "        \n",
    "        # Generate fake images\n",
    "        z = np.random.uniform(-1, 1, size=(batch_size, z_size))\n",
    "        z = torch.from_numpy(z).float()\n",
    "        fake_images = G(z)\n",
    "        \n",
    "        # Compute the discriminator losses on fake images        \n",
    "        D_fake = D(fake_images)\n",
    "        d_fake_loss = fake_loss(D_fake)\n",
    "        \n",
    "        # add up loss and perform backprop\n",
    "        d_loss = d_real_loss + d_fake_loss\n",
    "        d_loss.backward()\n",
    "        d_optimizer.step()\n",
    "        \n",
    "        \n",
    "        # =========================================\n",
    "        #            TRAIN THE GENERATOR\n",
    "        # =========================================\n",
    "        g_optimizer.zero_grad()\n",
    "        \n",
    "        # 1. Train with fake images and flipped labels\n",
    "        \n",
    "        # Generate fake images\n",
    "        z = np.random.uniform(-1, 1, size=(batch_size, z_size))\n",
    "        z = torch.from_numpy(z).float()\n",
    "        fake_images = G(z)\n",
    "        \n",
    "        # Compute the discriminator losses on fake images \n",
    "        # using flipped labels!\n",
    "        D_fake = D(fake_images)\n",
    "        g_loss = real_loss(D_fake) # use real loss to flip labels\n",
    "        \n",
    "        # perform backprop\n",
    "        g_loss.backward()\n",
    "        g_optimizer.step()\n",
    "\n",
    "        # Print some loss stats\n",
    "        if batch_i % print_every == 0:\n",
    "            # print discriminator and generator loss\n",
    "            print('Epoch [{:5d}/{:5d}] | d_loss: {:6.4f} | g_loss: {:6.4f}'.format(\n",
    "                    epoch+1, num_epochs, d_loss.item(), g_loss.item()))\n",
    "\n",
    "    \n",
    "    ## AFTER EACH EPOCH##\n",
    "    # append discriminator loss and generator loss\n",
    "    losses.append((d_loss.item(), g_loss.item()))\n",
    "    \n",
    "    # generate and save sample, fake images\n",
    "    G.eval() # eval mode for generating samples\n",
    "    samples_z = G(fixed_z)\n",
    "    samples.append(samples_z)\n",
    "    G.train() # back to train mode\n",
    "\n",
    "\n",
    "# Save training generator samples\n",
    "with open('train_samples.pkl', 'wb') as f:\n",
    "    pkl.dump(samples, f)"
   ]
  },
  {
   "cell_type": "markdown",
   "metadata": {},
   "source": [
    "## Training loss\n",
    "\n",
    "Here we'll plot the training losses for the generator and discriminator, recorded after each epoch."
   ]
  },
  {
   "cell_type": "code",
   "execution_count": 13,
   "metadata": {},
   "outputs": [
    {
     "data": {
      "text/plain": [
       "<matplotlib.legend.Legend at 0x14fdb6df518>"
      ]
     },
     "execution_count": 13,
     "metadata": {},
     "output_type": "execute_result"
    },
    {
     "data": {
      "image/png": "[encoded data removed]",
      "text/plain": [
       "<Figure size 432x288 with 1 Axes>"
      ]
     },
     "metadata": {},
     "output_type": "display_data"
    }
   ],
   "source": [
    "fig, ax = plt.subplots()\n",
    "losses = np.array(losses)\n",
    "plt.plot(losses.T[0], label='Discriminator')\n",
    "plt.plot(losses.T[1], label='Generator')\n",
    "plt.title(\"Training Losses\")\n",
    "plt.legend()"
   ]
  },
  {
   "cell_type": "markdown",
   "metadata": {},
   "source": [
    "## Generator samples from training\n",
    "\n",
    "Here we can view samples of images from the generator. First we'll look at the images we saved during training."
   ]
  },
  {
   "cell_type": "code",
   "execution_count": 14,
   "metadata": {},
   "outputs": [],
   "source": [
    "# helper function for viewing a list of passed in sample images\n",
    "def view_samples(epoch, samples):\n",
    "    fig, axes = plt.subplots(figsize=(7,7), nrows=4, ncols=4, sharey=True, sharex=True)\n",
    "    for ax, img in zip(axes.flatten(), samples[epoch]):\n",
    "        img = img.detach()\n",
    "        ax.xaxis.set_visible(False)\n",
    "        ax.yaxis.set_visible(False)\n",
    "        im = ax.imshow(img.reshape((28,28)), cmap='Greys_r')"
   ]
  },
  {
   "cell_type": "code",
   "execution_count": 15,
   "metadata": {},
   "outputs": [],
   "source": [
    "# Load samples from generator, taken while training\n",
    "with open('train_samples.pkl', 'rb') as f:\n",
    "    samples = pkl.load(f)"
   ]
  },
  {
   "cell_type": "markdown",
   "metadata": {},
   "source": [
    "These are samples from the final training epoch. You can see the generator is able to reproduce numbers like 1, 7, 3, 2. Since this is just a sample, it isn't representative of the full range of images this generator can make."
   ]
  },
  {
   "cell_type": "code",
   "execution_count": 16,
   "metadata": {},
   "outputs": [
    {
     "data": {
      "image/png": "[encoded data removed]",
      "text/plain": [
       "<Figure size 504x504 with 16 Axes>"
      ]
     },
     "metadata": {},
     "output_type": "display_data"
    }
   ],
   "source": [
    "# -1 indicates final epoch's samples (the last in the list)\n",
    "view_samples(-1, samples)"
   ]
  },
  {
   "cell_type": "markdown",
   "metadata": {},
   "source": [
    "Below I'm showing the generated images as the network was training, every 10 epochs."
   ]
  },
  {
   "cell_type": "code",
   "execution_count": 17,
   "metadata": {},
   "outputs": [
    {
     "data": {
      "image/png": "[encoded data removed]",
      "text/plain": [
       "<Figure size 504x864 with 60 Axes>"
      ]
     },
     "metadata": {},
     "output_type": "display_data"
    }
   ],
   "source": [
    "rows = 10 # split epochs into 10, so 100/10 = every 10 epochs\n",
    "cols = 6\n",
    "fig, axes = plt.subplots(figsize=(7,12), nrows=rows, ncols=cols, sharex=True, sharey=True)\n",
    "\n",
    "for sample, ax_row in zip(samples[::int(len(samples)/rows)], axes):\n",
    "    for img, ax in zip(sample[::int(len(sample)/cols)], ax_row):\n",
    "        img = img.detach()\n",
    "        ax.imshow(img.reshape((28,28)), cmap='Greys_r')\n",
    "        ax.xaxis.set_visible(False)\n",
    "        ax.yaxis.set_visible(False)"
   ]
  },
  {
   "cell_type": "markdown",
   "metadata": {},
   "source": [
    "It starts out as all noise. Then it learns to make only the center white and the rest black. You can start to see some number like structures appear out of the noise like 1s and 9s."
   ]
  },
  {
   "cell_type": "markdown",
   "metadata": {},
   "source": [
    "## Sampling from the generator\n",
    "\n",
    "We can also get completely new images from the generator by using the checkpoint we saved after training. **We just need to pass in a new latent vector $z$ and we'll get new samples**!"
   ]
  },
  {
   "cell_type": "code",
   "execution_count": 19,
   "metadata": {},
   "outputs": [
    {
     "name": "stderr",
     "output_type": "stream",
     "text": [
      "C:\\Users\\acer\\Anaconda3\\lib\\site-packages\\torch\\nn\\functional.py:1340: UserWarning: nn.functional.tanh is deprecated. Use torch.tanh instead.\n",
      "  warnings.warn(\"nn.functional.tanh is deprecated. Use torch.tanh instead.\")\n"
     ]
    },
    {
     "data": {
      "image/png": "[encoded data removed]",
      "text/plain": [
       "<Figure size 504x504 with 16 Axes>"
      ]
     },
     "metadata": {},
     "output_type": "display_data"
    }
   ],
   "source": [
    "# randomly generated, new latent vectors\n",
    "sample_size=16\n",
    "rand_z = np.random.uniform(-1, 1, size=(sample_size, z_size))\n",
    "rand_z = torch.from_numpy(rand_z).float()\n",
    "\n",
    "G.eval() # eval mode\n",
    "# generated samples\n",
    "rand_images = G(rand_z)\n",
    "\n",
    "# 0 indicates the first set of samples in the passed in list\n",
    "# and we only have one batch of samples, here\n",
    "view_samples(0, [rand_images])"
   ]
  },
  {
   "cell_type": "code",
   "execution_count": null,
   "metadata": {},
   "outputs": [],
   "source": []
  }
 ],
 "metadata": {
  "kernelspec": {
   "display_name": "Python 3",
   "language": "python",
   "name": "python3"
  },
  "language_info": {
   "codemirror_mode": {
    "name": "ipython",
    "version": 3
   },
   "file_extension": ".py",
   "mimetype": "text/x-python",
   "name": "python",
   "nbconvert_exporter": "python",
   "pygments_lexer": "ipython3",
   "version": "3.6.5"
  }
 },
 "nbformat": 4,
 "nbformat_minor": 2
}
